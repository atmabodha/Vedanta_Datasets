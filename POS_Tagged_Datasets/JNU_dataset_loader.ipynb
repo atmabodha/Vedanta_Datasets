{
  "cells": [
    {
      "cell_type": "code",
      "execution_count": 1,
      "metadata": {},
      "outputs": [],
      "source": [
        "# JNU dataset source : http://sanskrit.jnu.ac.in/corpora/tagset.jsp\n",
        "\n",
        "# Dataset curated by Dr. Geetanjali Srivastava : https://www.linkedin.com/in/dr-geetanjali-srivastava-phd/"
      ]
    },
    {
      "cell_type": "code",
      "execution_count": 2,
      "metadata": {
        "id": "oLZztIAMFZYu"
      },
      "outputs": [
        {
          "name": "stderr",
          "output_type": "stream",
          "text": [
            "/tmp/ipykernel_34305/3926681168.py:1: DeprecationWarning: \n",
            "Pyarrow will become a required dependency of pandas in the next major release of pandas (pandas 3.0),\n",
            "(to allow more performant data types, such as the Arrow string type, and better interoperability with other libraries)\n",
            "but was not found to be installed on your system.\n",
            "If this would cause problems for you,\n",
            "please provide us feedback at https://github.com/pandas-dev/pandas/issues/54466\n",
            "        \n",
            "  import pandas as pd\n"
          ]
        }
      ],
      "source": [
        "import pandas as pd\n",
        "import numpy as np\n",
        "\n",
        "import warnings\n",
        "warnings.filterwarnings(\"ignore\")"
      ]
    },
    {
      "cell_type": "code",
      "execution_count": 3,
      "metadata": {
        "id": "urEaaDwnEtjs"
      },
      "outputs": [],
      "source": [
        "df_X = pd.read_csv(\"JNU_dataset_sentences.csv\",header=None)\n",
        "df_Y = pd.read_csv(\"JNU_dataset_labelupos.csv\",header=None)"
      ]
    },
    {
      "cell_type": "code",
      "execution_count": 4,
      "metadata": {},
      "outputs": [],
      "source": [
        "df_X = df_X.replace(np.nan, '', regex=True)\n",
        "df_Y = df_Y.replace(np.nan, '', regex=True)"
      ]
    },
    {
      "cell_type": "code",
      "execution_count": 5,
      "metadata": {},
      "outputs": [
        {
          "name": "stdout",
          "output_type": "stream",
          "text": [
            "          0          1                  2              3         4   \\\n",
            "0                     0                  2              4         6   \n",
            "1        0.0      गङ्गा                                               \n",
            "2        1.0      गङ्गा  पर्वतराजहिमालयात्        प्रभवति         ।   \n",
            "3        2.0        एषा            सर्वासु          नदीषु  श्रेष्ठा   \n",
            "4        3.0   गङ्गायाः         उद्भवविषये            एका       कथा   \n",
            "...      ...        ...                ...            ...       ...   \n",
            "1455  1454.0       एतेन             हेतुना         निदाघः    वर्धते   \n",
            "1456  1455.0   एकस्मिन्               समये     अतिवृष्टिः       तया   \n",
            "1457  1456.0  अपरस्मिन्               समये     अनावृष्टिः       तया   \n",
            "1458  1457.0     समासतः               एतत्        कथयितुं    शक्यते   \n",
            "1459  1458.0     नूतनाः              रोगाः  आक्रमिष्यन्ति       तैः   \n",
            "\n",
            "             5            6           7      8           9   ...  28  29  30  \\\n",
            "0             8           10          12     14          16  ...  54  56  58   \n",
            "1                                                            ...               \n",
            "2                                                            ...               \n",
            "3     पवित्रतमा            च       अस्ति      ।              ...               \n",
            "4         अस्ति            ।                                 ...               \n",
            "...         ...          ...         ...    ...         ...  ...  ..  ..  ..   \n",
            "1455          ।                                              ...               \n",
            "1456  जलाप्लावः          तेन           च   महती       हानिः  ...               \n",
            "1457          च   दुर्भिक्षं     आपद्यते      ।              ...               \n",
            "1458        यत्  पर्यावरणस्य      एतावती  हानिः        कृता  ...               \n",
            "1459          च     मानवानां  अस्तित्वम्     एव  संकटापन्नं  ...               \n",
            "\n",
            "      31  32  33  34  35  36  37  \n",
            "0     60  62  64  66  68  70  72  \n",
            "1                                 \n",
            "2                                 \n",
            "3                                 \n",
            "4                                 \n",
            "...   ..  ..  ..  ..  ..  ..  ..  \n",
            "1455                              \n",
            "1456                              \n",
            "1457                              \n",
            "1458                              \n",
            "1459                              \n",
            "\n",
            "[1460 rows x 38 columns]\n"
          ]
        }
      ],
      "source": [
        "print(df_X)"
      ]
    },
    {
      "cell_type": "code",
      "execution_count": 6,
      "metadata": {},
      "outputs": [],
      "source": [
        "df_X.drop(0,axis=0,inplace=True)\n",
        "df_X.drop(0,axis=1,inplace=True)\n",
        "df_Y.drop(0,axis=0,inplace=True)\n",
        "df_Y.drop(0,axis=1,inplace=True)"
      ]
    },
    {
      "cell_type": "code",
      "execution_count": 7,
      "metadata": {
        "id": "_PjPO7NzGGYX"
      },
      "outputs": [],
      "source": [
        "X = df_X.loc[:, :].values.tolist()\n",
        "Y = df_Y.loc[:,:].values.tolist()"
      ]
    },
    {
      "cell_type": "code",
      "execution_count": 15,
      "metadata": {},
      "outputs": [
        {
          "name": "stdout",
          "output_type": "stream",
          "text": [
            "sample X : ['गङ्गा', '', '', '', '', '', '', '', '', '', '', '', '', '', '', '', '', '', '', '', '', '', '', '', '', '', '', '', '', '', '', '', '', '', '', '', ''] \n",
            "\n",
            "sample Y : ['NOUN', '', '', '', '', '', '', '', '', '', '', '', '', '', '', '', '', '', '', '', '', '', '', '', '', '', '', '', '', '', '', '', '', '', '', '', '']\n"
          ]
        }
      ],
      "source": [
        "print('sample X :', X[0], '\\n')\n",
        "print('sample Y :', Y[0],)"
      ]
    },
    {
      "cell_type": "code",
      "execution_count": 9,
      "metadata": {
        "id": "sTjSoSfzXdUQ"
      },
      "outputs": [],
      "source": [
        "# Number of unique words in the corpus\n",
        "num_words = len(set([word.lower() for sentence in X for word in sentence]))\n",
        "\n",
        "# Number of UPOS tags in the corpus\n",
        "num_tags   = len(set([word.lower() for sentence in Y for word in sentence]))"
      ]
    },
    {
      "cell_type": "code",
      "execution_count": 10,
      "metadata": {
        "id": "0FttISv-Xreb"
      },
      "outputs": [
        {
          "name": "stdout",
          "output_type": "stream",
          "text": [
            "Total number of tagged sentences: 1459\n",
            "Vocabulary size: 4292\n",
            "Total number of tags: 17\n"
          ]
        }
      ],
      "source": [
        "print(\"Total number of tagged sentences: {}\".format(len(X)))\n",
        "print(\"Vocabulary size: {}\".format(num_words))\n",
        "print(\"Total number of tags: {}\".format(num_tags))"
      ]
    }
  ],
  "metadata": {
    "colab": {
      "provenance": []
    },
    "kernelspec": {
      "display_name": "Python 3",
      "name": "python3"
    },
    "language_info": {
      "codemirror_mode": {
        "name": "ipython",
        "version": 3
      },
      "file_extension": ".py",
      "mimetype": "text/x-python",
      "name": "python",
      "nbconvert_exporter": "python",
      "pygments_lexer": "ipython3",
      "version": "3.11.6"
    }
  },
  "nbformat": 4,
  "nbformat_minor": 0
}
